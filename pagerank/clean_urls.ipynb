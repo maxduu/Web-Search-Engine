{
 "cells": [
  {
   "cell_type": "markdown",
   "metadata": {},
   "source": [
    "# Downloading Java From Command Line (Optional)"
   ]
  },
  {
   "cell_type": "code",
   "execution_count": 1,
   "metadata": {},
   "outputs": [],
   "source": [
    "# !sudo apt update\n",
    "# !sudo apt install default-jre\n",
    "# !sudo apt install default-jdk"
   ]
  },
  {
   "cell_type": "markdown",
   "metadata": {},
   "source": [
    "# Python Imports"
   ]
  },
  {
   "cell_type": "code",
   "execution_count": 2,
   "metadata": {},
   "outputs": [],
   "source": [
    "import pip\n",
    "import json\n",
    "    \n",
    "try:\n",
    "    from urllib.parse import urlparse\n",
    "except:\n",
    "    pip.main(['install','urllib'])\n",
    "    from urllib.parse import urlparse\n",
    "\n",
    "try:\n",
    "    import psycopg2\n",
    "except:\n",
    "    pip.main(['install','psycopg2-binary'])\n",
    "    import psycopg2\n",
    "\n",
    "try:\n",
    "    import pyspark\n",
    "    from pyspark.sql import SparkSession\n",
    "    from pyspark.context import SparkContext\n",
    "    from pyspark.sql.types import *\n",
    "    from pyspark.sql.functions import udf\n",
    "except:\n",
    "    pip.main(['install','pyspark'])\n",
    "    import pyspark\n",
    "    from pyspark.sql import SparkSession\n",
    "    from pyspark.context import SparkContext\n",
    "    from pyspark.sql.types import *\n",
    "    from pyspark.sql.functions import udf"
   ]
  },
  {
   "cell_type": "markdown",
   "metadata": {},
   "source": [
    "# Gets AWS credentials"
   ]
  },
  {
   "cell_type": "code",
   "execution_count": 3,
   "metadata": {},
   "outputs": [],
   "source": [
    "credentials_file = open(\"./awscredentials.json\")\n",
    "aws_creds = json.load(credentials_file)"
   ]
  },
  {
   "cell_type": "markdown",
   "metadata": {},
   "source": [
    "# Reset Domains Results"
   ]
  },
  {
   "cell_type": "code",
   "execution_count": 4,
   "metadata": {},
   "outputs": [],
   "source": [
    "try:\n",
    "    conn = psycopg2.connect(host=aws_creds[\"ENDPOINT\"], port=aws_creds[\"PORT\"],\n",
    "                            database=aws_creds[\"DBNAME\"], user=aws_creds[\"USR\"],\n",
    "                            password=aws_creds[\"password\"])\n",
    "    cur = conn.cursor()\n",
    "    cur.execute(\"DROP TABLE IF EXISTS domains\")\n",
    "    cur.close()\n",
    "    conn.commit()\n",
    "    conn.close()\n",
    "except Exception as e:\n",
    "    print(\"Database connection failed due to {}\".format(e))"
   ]
  },
  {
   "cell_type": "markdown",
   "metadata": {},
   "source": [
    "# Define PageRank Queries"
   ]
  },
  {
   "cell_type": "code",
   "execution_count": 5,
   "metadata": {},
   "outputs": [],
   "source": [
    "# Queries\n",
    "\n",
    "cleaned_links_url_query = '''\n",
    "    SELECT u1.url AS source, u2.url AS dest\n",
    "    FROM links_url l JOIN urls u1 ON l.source=u1.url JOIN urls u2 ON l.dest=u2.url\n",
    "    WHERE u1.url <> u2.url'''\n",
    "\n",
    "get_domains_query = '''\n",
    "    SELECT DISTINCT GET_DOMAIN(c.source) AS source, GET_DOMAIN(c.dest) AS dest\n",
    "    FROM cleaned_links_url c'''"
   ]
  },
  {
   "cell_type": "markdown",
   "metadata": {},
   "source": [
    "# Initialize Spark"
   ]
  },
  {
   "cell_type": "code",
   "execution_count": 6,
   "metadata": {},
   "outputs": [],
   "source": [
    "jdbcUrl = \"jdbc:postgresql://\" + aws_creds[\"ENDPOINT\"] + \":\" + aws_creds[\"PORT\"] + \"/\" + \\\n",
    "                    aws_creds[\"DBNAME\"] + \"?user=\" + aws_creds[\"USR\"] + \"&password=\" + aws_creds[\"password\"]\n",
    "\n",
    "spark = SparkSession.builder \\\n",
    "        .appName('CleanURLs') \\\n",
    "        .master('local[*]') \\\n",
    "        .config(\"spark.driver.extraClassPath\", \"postgresql-42.2.20.jar\") \\\n",
    "        .config(\"spark.network.timeout\", \"3700s\") \\\n",
    "        .config(\"spark.executor.heartbeatInterval\",\"3600s\") \\\n",
    "        .config('spark.executor.memory','40G') \\\n",
    "        .config('spark.driver.memory','75G') \\\n",
    "        .getOrCreate()"
   ]
  },
  {
   "cell_type": "code",
   "execution_count": 7,
   "metadata": {},
   "outputs": [
    {
     "data": {
      "text/plain": [
       "<function __main__.<lambda>(url)>"
      ]
     },
     "execution_count": 7,
     "metadata": {},
     "output_type": "execute_result"
    }
   ],
   "source": [
    "get_domain = udf(lambda url: urlparse(url).netloc, StringType())\n",
    "spark.udf.register(\"GET_DOMAIN\", get_domain)"
   ]
  },
  {
   "cell_type": "markdown",
   "metadata": {},
   "source": [
    "# Actual PageRank"
   ]
  },
  {
   "cell_type": "code",
   "execution_count": null,
   "metadata": {},
   "outputs": [],
   "source": [
    "# Load data from RDS\n",
    "cleaned_links_url_sdf = spark.read.format(\"jdbc\") \\\n",
    "        .option(\"url\", jdbcUrl) \\\n",
    "        .option(\"driver\", \"org.postgresql.Driver\") \\\n",
    "        .option(\"query\", cleaned_links_url_query) \\\n",
    "        .load()\n",
    "\n",
    "cleaned_links_url_sdf.createOrReplaceTempView(\"cleaned_links_url\")\n",
    "\n",
    "get_domains_sdf = spark.sql(get_domains_query)\n",
    "get_domains_sdf.write.format(\"jdbc\") \\\n",
    "        .option(\"url\", jdbcUrl) \\\n",
    "        .option(\"driver\", \"org.postgresql.Driver\") \\\n",
    "        .option(\"dbtable\", \"domains\") \\\n",
    "        .save()"
   ]
  },
  {
   "cell_type": "code",
   "execution_count": null,
   "metadata": {},
   "outputs": [],
   "source": []
  }
 ],
 "metadata": {
  "kernelspec": {
   "display_name": "Python 3",
   "language": "python",
   "name": "python3"
  },
  "language_info": {
   "codemirror_mode": {
    "name": "ipython",
    "version": 3
   },
   "file_extension": ".py",
   "mimetype": "text/x-python",
   "name": "python",
   "nbconvert_exporter": "python",
   "pygments_lexer": "ipython3",
   "version": "3.8.5"
  }
 },
 "nbformat": 4,
 "nbformat_minor": 4
}
